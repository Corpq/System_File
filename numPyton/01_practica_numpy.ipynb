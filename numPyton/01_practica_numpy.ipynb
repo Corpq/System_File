{
 "cells": [
  {
   "cell_type": "markdown",
   "metadata": {},
   "source": [
    "# Tarea 2 - Numpy\n",
    "\n",
    "> lea detalladamente el ejercicio antes de responder los ejercicios"
   ]
  },
  {
   "cell_type": "markdown",
   "metadata": {},
   "source": [
    "1. Crear los siguientes arregos de numpy\n",
    "> * Crear un array con 10 elementos \n",
    "> * Crear un array con 5 numeros decimales\n",
    "> * crear un array de 20 elementos con solo  numeros pares"
   ]
  },
  {
   "cell_type": "code",
   "execution_count": 2,
   "metadata": {},
   "outputs": [
    {
     "name": "stdout",
     "output_type": "stream",
     "text": [
      "[0 1 2 3 4 5 6 7 8 9]\n",
      "[0.334577   0.41247391 0.46656986 0.07399294 0.25716538]\n",
      "[ 2  4  6  8 10 12 14 16 18 20 22 24 26 28 30 32 34 36 38 40]\n"
     ]
    }
   ],
   "source": [
    "import numpy as np\n",
    "\n",
    "# Crear un array con 10 elementos\n",
    "array_de_10 = np.arange(10)\n",
    "print(array_de_10)\n",
    "\n",
    "# Crear un array con 5 números decimales\n",
    "array_de_decimales = np.random.rand(5)\n",
    "print(array_de_decimales)\n",
    "\n",
    "# Crear un array de 20 elementos con solo números pares\n",
    "array_de_pares = np.arange(2, 41, 2)\n",
    "print( array_de_pares)"
   ]
  },
  {
   "cell_type": "markdown",
   "metadata": {},
   "source": [
    "2. Cual es la forma correcta de crear un Array\n",
    "> * A) np.createArray([1,2,3,4,5])\n",
    "> * B) np.object([1,2,3,4,5])\n",
    "> * C) np.array([1,2,3,4,5])"
   ]
  },
  {
   "cell_type": "code",
   "execution_count": 3,
   "metadata": {},
   "outputs": [
    {
     "name": "stdout",
     "output_type": "stream",
     "text": [
      "[1 2 3 4 5]\n"
     ]
    }
   ],
   "source": [
    "# La forma correcta de crear un array es: C\n",
    "correcto_array = np.array([1,2,3,4,5])\n",
    "print(correcto_array)"
   ]
  },
  {
   "cell_type": "markdown",
   "metadata": {},
   "source": [
    "3. Cual es la forma correcta de saber el numero de dimensiones de un array\n",
    "> * arr.ndim()\n",
    "> * arr.dim()   \n",
    "> * arr.ndim\n",
    "> * arr.dim"
   ]
  },
  {
   "cell_type": "code",
   "execution_count": 4,
   "metadata": {},
   "outputs": [
    {
     "name": "stdout",
     "output_type": "stream",
     "text": [
      "2\n"
     ]
    }
   ],
   "source": [
    "import numpy as np\n",
    "\n",
    "# Array de ejemplo\n",
    "array_de_ejemplo = np.array([[1, 2, 3], [4, 5, 6]])\n",
    "\n",
    "# Obtener el número\n",
    "num_de_dimensiones = array_de_ejemplo.ndim\n",
    "print( num_de_dimensiones)"
   ]
  },
  {
   "cell_type": "markdown",
   "metadata": {},
   "source": [
    "4. Cual es la sintaxis correcta para imprimir el primer item de un array\n",
    "> * print(arr,1)\n",
    "> * print(arr[1])\n",
    "> * print(arr[0]) "
   ]
  },
  {
   "cell_type": "code",
   "execution_count": 5,
   "metadata": {},
   "outputs": [
    {
     "name": "stdout",
     "output_type": "stream",
     "text": [
      "10\n"
     ]
    }
   ],
   "source": [
    "import numpy as np\n",
    "\n",
    "# Array de ejemplo\n",
    "array_ejemplo = np.array([10, 20, 30, 40, 50])\n",
    "\n",
    "# Imprimir el primer ítem\n",
    "el_primer_item = array_ejemplo[0]\n",
    "print(el_primer_item)"
   ]
  },
  {
   "cell_type": "markdown",
   "metadata": {},
   "source": [
    "5. Cual es la sintaxis correcta para imprimir el numero 8 del vector\n",
    "arr = np.array([[1,2,3,4,5], [6,7,8,9,10]])\n",
    "> * print(arr(1,2))\n",
    "> * print(arr(7,2))\n",
    "> * print(arr(3,0))"
   ]
  },
  {
   "cell_type": "code",
   "execution_count": 6,
   "metadata": {},
   "outputs": [
    {
     "name": "stdout",
     "output_type": "stream",
     "text": [
      "8\n"
     ]
    }
   ],
   "source": [
    "import numpy as np\n",
    "\n",
    "# Array de ejemplo\n",
    "arr = np.array([[1, 2, 3, 4, 5], [6, 7, 8, 9, 10]])\n",
    "\n",
    "# Imprimir el número 8\n",
    "print(arr[1, 2])"
   ]
  },
  {
   "cell_type": "markdown",
   "metadata": {},
   "source": [
    "6. Cual es la sintaxis correcta para imprimir [3, 4, 5] del array \n",
    "arr = np.array([1,2,3,4,5,6,7])\n",
    "> * print(arr[3:6])\n",
    "> * print(arr[2:5])\n",
    "> * print(arr[2:6])\n",
    "> * print(arr[2:4])"
   ]
  },
  {
   "cell_type": "code",
   "execution_count": 7,
   "metadata": {},
   "outputs": [
    {
     "name": "stdout",
     "output_type": "stream",
     "text": [
      "[3 4 5]\n"
     ]
    }
   ],
   "source": [
    "import numpy as np\n",
    "\n",
    "# Array de ejemplo\n",
    "arr = np.array([1, 2, 3, 4, 5, 6, 7])\n",
    "\n",
    "# Imprimir 3, 4, 5\n",
    "print(arr[2:5])"
   ]
  },
  {
   "cell_type": "markdown",
   "metadata": {},
   "source": [
    "7. Crear un vector con valores dentro del rango 10 a 49"
   ]
  },
  {
   "cell_type": "code",
   "execution_count": 8,
   "metadata": {},
   "outputs": [
    {
     "name": "stdout",
     "output_type": "stream",
     "text": [
      "[10 11 12 13 14 15 16 17 18 19 20 21 22 23 24 25 26 27 28 29 30 31 32 33\n",
      " 34 35 36 37 38 39 40 41 42 43 44 45 46 47 48 49]\n"
     ]
    }
   ],
   "source": [
    "import numpy as np\n",
    "\n",
    "# Crear el vector\n",
    "rango_del_vector = np.arange(10, 50)\n",
    "print(rango_del_vector)\n"
   ]
  },
  {
   "cell_type": "markdown",
   "metadata": {},
   "source": [
    "8. Invertir el vector creado en la pregunta anterior"
   ]
  },
  {
   "cell_type": "code",
   "execution_count": 9,
   "metadata": {},
   "outputs": [
    {
     "name": "stdout",
     "output_type": "stream",
     "text": [
      "[49 48 47 46 45 44 43 42 41 40 39 38 37 36 35 34 33 32 31 30 29 28 27 26\n",
      " 25 24 23 22 21 20 19 18 17 16 15 14 13 12 11 10]\n"
     ]
    }
   ],
   "source": [
    "import numpy as np\n",
    "\n",
    "# Crear un vector\n",
    "rango_del_vector = np.arange(10, 50)\n",
    "\n",
    "# Invertir el vector\n",
    "vector_invertido = np.flip(rango_del_vector)\n",
    "print(vector_invertido)\n"
   ]
  },
  {
   "cell_type": "markdown",
   "metadata": {},
   "source": [
    "\n",
    "9. Crear una matriz 3x3 con valores de 0 a 8"
   ]
  },
  {
   "cell_type": "code",
   "execution_count": 10,
   "metadata": {},
   "outputs": [
    {
     "name": "stdout",
     "output_type": "stream",
     "text": [
      "[0, 1, 2]\n",
      "[3, 4, 5]\n",
      "[6, 7, 8]\n"
     ]
    }
   ],
   "source": [
    "matriz = [[0, 1, 2],[3, 4, 5], [6, 7, 8]]\n",
    "\n",
    "for fila in matriz: print(fila)\n"
   ]
  },
  {
   "cell_type": "markdown",
   "metadata": {},
   "source": [
    "10. Crear una matriz identidad de 6x6"
   ]
  },
  {
   "cell_type": "code",
   "execution_count": 11,
   "metadata": {},
   "outputs": [
    {
     "name": "stdout",
     "output_type": "stream",
     "text": [
      "[1, 0, 0, 0, 0, 0]\n",
      "[0, 1, 0, 0, 0, 0]\n",
      "[0, 0, 1, 0, 0, 0]\n",
      "[0, 0, 0, 1, 0, 0]\n",
      "[0, 0, 0, 0, 1, 0]\n",
      "[0, 0, 0, 0, 0, 1]\n"
     ]
    }
   ],
   "source": [
    "matriz_de_identidad = [[1 if a == b else 0 for a in range(6)] for b in range(6)]\n",
    "\n",
    "for fila in matriz_de_identidad:print(fila)\n"
   ]
  },
  {
   "cell_type": "markdown",
   "metadata": {},
   "source": [
    "11. Encontrar los valores que no son ceros del arreglo [1,2,4,2,4,0,1,0,0,0,12,4,5,6,7,0]"
   ]
  },
  {
   "cell_type": "code",
   "execution_count": 12,
   "metadata": {},
   "outputs": [
    {
     "name": "stdout",
     "output_type": "stream",
     "text": [
      "[1, 2, 4, 2, 4, 1, 12, 4, 5, 6, 7]\n"
     ]
    }
   ],
   "source": [
    "arreglo = [1, 2, 4, 2, 4, 0, 1, 0, 0, 0, 12, 4, 5, 6, 7, 0]\n",
    "\n",
    "valores_no_ceros = [valor for valor in arreglo if valor != 0]\n",
    "\n",
    "print( valores_no_ceros)\n"
   ]
  },
  {
   "cell_type": "markdown",
   "metadata": {},
   "source": [
    "12. Crear una matriz con valores al azar con forma 3x3x3"
   ]
  },
  {
   "cell_type": "code",
   "execution_count": 13,
   "metadata": {},
   "outputs": [
    {
     "name": "stdout",
     "output_type": "stream",
     "text": [
      "[[[9 0 4]\n",
      "  [1 9 2]\n",
      "  [6 0 5]]\n",
      "\n",
      " [[1 4 9]\n",
      "  [1 9 4]\n",
      "  [5 7 1]]\n",
      "\n",
      " [[7 0 6]\n",
      "  [3 6 8]\n",
      "  [4 6 4]]]\n"
     ]
    }
   ],
   "source": [
    "import numpy as np\n",
    "\n",
    "# Crear una matriz random de 3x3x3\n",
    "matriz_azar = np.random.randint(0, 10, size=(3, 3, 3))\n",
    "\n",
    "print(matriz_azar)\n"
   ]
  },
  {
   "cell_type": "markdown",
   "metadata": {},
   "source": [
    "13. Crear una matriz de 10x10 con 1's en los bordes y cualquier valor en el interior(investigar)"
   ]
  },
  {
   "cell_type": "code",
   "execution_count": 14,
   "metadata": {},
   "outputs": [
    {
     "name": "stdout",
     "output_type": "stream",
     "text": [
      "[[1. 1. 1. 1. 1. 1. 1. 1. 1. 1.]\n",
      " [1. 7. 3. 6. 3. 8. 8. 2. 6. 1.]\n",
      " [1. 8. 3. 8. 8. 3. 9. 2. 5. 1.]\n",
      " [1. 3. 2. 1. 2. 1. 9. 3. 3. 1.]\n",
      " [1. 5. 4. 6. 9. 8. 7. 6. 2. 1.]\n",
      " [1. 8. 2. 5. 6. 5. 6. 2. 2. 1.]\n",
      " [1. 3. 1. 1. 3. 6. 4. 1. 3. 1.]\n",
      " [1. 9. 9. 3. 4. 1. 8. 3. 4. 1.]\n",
      " [1. 6. 5. 5. 4. 2. 3. 8. 8. 1.]\n",
      " [1. 1. 1. 1. 1. 1. 1. 1. 1. 1.]]\n"
     ]
    }
   ],
   "source": [
    "import numpy as np\n",
    "\n",
    "# Crear una matriz de 10x10\n",
    "matrizfin = np.ones((10, 10))\n",
    "\n",
    "# Actualizar los valores\n",
    "matrizfin[1:-1, 1:-1] = np.random.randint(1, 10, size=(8, 8))\n",
    "\n",
    "print(matrizfin)\n"
   ]
  },
  {
   "cell_type": "markdown",
   "metadata": {},
   "source": [
    "14. Crear una matriz de 5x5 con valores en los renglones que vayan de 0 a 4(investigar)"
   ]
  },
  {
   "cell_type": "code",
   "execution_count": 15,
   "metadata": {},
   "outputs": [
    {
     "name": "stdout",
     "output_type": "stream",
     "text": [
      "[[0 1 2 3 4]\n",
      " [0 1 2 3 4]\n",
      " [0 1 2 3 4]\n",
      " [0 1 2 3 4]\n",
      " [0 1 2 3 4]]\n"
     ]
    }
   ],
   "source": [
    "import numpy as np\n",
    "\n",
    "# Crear una matriz de 5x5 \n",
    "matriz = np.tile(np.arange(5), (5, 1))\n",
    "\n",
    "print(matriz)\n"
   ]
  },
  {
   "cell_type": "markdown",
   "metadata": {},
   "source": [
    "15. Crear dos arreglos al azar(valores aleatorios) A y B, verificar si son iguales"
   ]
  },
  {
   "cell_type": "code",
   "execution_count": 16,
   "metadata": {},
   "outputs": [
    {
     "name": "stdout",
     "output_type": "stream",
     "text": [
      "[0.13918811 0.89602001 0.75736677 0.98277751 0.58595417]\n",
      "[0.04823867 0.27770331 0.05460816 0.28043544 0.29929022]\n"
     ]
    }
   ],
   "source": [
    "import numpy as np\n",
    "\n",
    "# Crear dos arreglos\n",
    "A = np.random.rand(5)\n",
    "B = np.random.rand(5)\n",
    "\n",
    "print(A)\n",
    "print(B)\n",
    "\n",
    "# Verificar si los arreglos son iguales\n",
    "son_iguales = np.array_equal(A, B)\n",
    "\n",
    "# No son iguales \n",
    "\n"
   ]
  },
  {
   "cell_type": "markdown",
   "metadata": {},
   "source": [
    "16. Crear una matrices 10x10 mostrar las siguiente:\n",
    "> * mostrar las filas 5 en adelante\n",
    "> * mostrar solo las tres primeras filas\n",
    "> * mostrar solo las filas 3 a la 7 "
   ]
  },
  {
   "cell_type": "code",
   "execution_count": 17,
   "metadata": {},
   "outputs": [
    {
     "name": "stdout",
     "output_type": "stream",
     "text": [
      "[[63 94 62 10 40 26 12 82 83 59]\n",
      " [55 25 16 74 93 82 10 74 44 30]\n",
      " [85 34  4 44 12 30 62 94 87  2]\n",
      " [90 11 83 48 90 54 83 41 14 91]\n",
      " [10 11 34 77 32 97 97  4  5 61]]\n",
      "[[85 75 43 75 42  3  9 57 96 82]\n",
      " [48 63 28 21 18 33 61 82 57 23]\n",
      " [55 50 65 68 35 39 14 70 63  8]]\n",
      "[[45 86 76 90 50 44 80 11 55 55]\n",
      " [94 55 66 15 50 12 54 42 14 19]\n",
      " [63 94 62 10 40 26 12 82 83 59]\n",
      " [55 25 16 74 93 82 10 74 44 30]\n",
      " [85 34  4 44 12 30 62 94 87  2]]\n"
     ]
    }
   ],
   "source": [
    "import numpy as np\n",
    "\n",
    "# Crear una matriz de 10x10\n",
    "matriz = np.random.randint(1, 100, size=(10, 10))\n",
    "\n",
    "print(matriz[5:, :])\n",
    "\n",
    "print(matriz[:3, :])\n",
    "\n",
    "print(matriz[3:8, :])\n"
   ]
  },
  {
   "cell_type": "markdown",
   "metadata": {},
   "source": [
    "17. Crear una matrices 10x10 con valores aleatorios enteros y calcular la suma de valores siguiente:\n",
    "> * Calcular la suma de todos valores que sean mayores a 25\n",
    "> * Calcular la suma de los valores por filas que sean mayores a 10 y menores a 25\n",
    "> * Calcular la suma de los valores por columnas que sean mayores a 50 y menores a 75"
   ]
  },
  {
   "cell_type": "markdown",
   "metadata": {},
   "source": []
  }
 ],
 "metadata": {
  "kernelspec": {
   "display_name": "Python 3",
   "language": "python",
   "name": "python3"
  },
  "language_info": {
   "codemirror_mode": {
    "name": "ipython",
    "version": 3
   },
   "file_extension": ".py",
   "mimetype": "text/x-python",
   "name": "python",
   "nbconvert_exporter": "python",
   "pygments_lexer": "ipython3",
   "version": "3.11.9"
  }
 },
 "nbformat": 4,
 "nbformat_minor": 2
}
